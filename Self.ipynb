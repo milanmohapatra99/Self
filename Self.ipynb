{
 "cells": [
  {
   "cell_type": "code",
   "execution_count": 1,
   "id": "fd3f9c12",
   "metadata": {},
   "outputs": [
    {
     "name": "stdout",
     "output_type": "stream",
     "text": [
      "Score is 100\n"
     ]
    }
   ],
   "source": [
    "class Student:\n",
    "    college = \"ITR\"\n",
    "    def getScore(self):\n",
    "        print(\"Score is 100\")\n",
    "        \n",
    "peter = Student()\n",
    "peter.getScore()"
   ]
  },
  {
   "cell_type": "code",
   "execution_count": 6,
   "id": "1a5a4e22",
   "metadata": {},
   "outputs": [
    {
     "name": "stdout",
     "output_type": "stream",
     "text": [
      "Score of student in ITR is 100\n"
     ]
    }
   ],
   "source": [
    "class Student:\n",
    "    college = \"ITR\"\n",
    "    def getScore(self):\n",
    "        print(f\"Score of student in {self.college} is {self.score}\")\n",
    "        \n",
    "peter = Student()\n",
    "peter.score = 100\n",
    "peter.getScore()"
   ]
  },
  {
   "cell_type": "code",
   "execution_count": null,
   "id": "d20ebb5c",
   "metadata": {},
   "outputs": [],
   "source": []
  }
 ],
 "metadata": {
  "kernelspec": {
   "display_name": "Python 3 (ipykernel)",
   "language": "python",
   "name": "python3"
  },
  "language_info": {
   "codemirror_mode": {
    "name": "ipython",
    "version": 3
   },
   "file_extension": ".py",
   "mimetype": "text/x-python",
   "name": "python",
   "nbconvert_exporter": "python",
   "pygments_lexer": "ipython3",
   "version": "3.9.7"
  }
 },
 "nbformat": 4,
 "nbformat_minor": 5
}
